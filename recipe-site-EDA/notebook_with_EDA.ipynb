{
 "cells": [
  {
   "cell_type": "markdown",
   "id": "3bc34318",
   "metadata": {},
   "source": [
    "# Recipe Site Traffic EDA\n",
    "\n",
    "This notebook performs an Exploratory Data Analysis (EDA) on the recipe site dataset."
   ]
  },
  {
   "cell_type": "code",
   "execution_count": null,
   "id": "7fbeadbc",
   "metadata": {},
   "outputs": [],
   "source": [
    "\n",
    "import pandas as pd\n",
    "import matplotlib.pyplot as plt\n",
    "import seaborn as sns\n",
    "from sklearn.impute import SimpleImputer\n",
    "\n",
    "# Load dataset\n",
    "df = pd.read_csv(\"recipe_site_traffic_2212.csv\")\n",
    "\n",
    "# Convert servings to numeric\n",
    "df[\"servings\"] = pd.to_numeric(df[\"servings\"], errors=\"coerce\")\n",
    "\n",
    "# Impute missing values in numeric columns\n",
    "num_cols = [\"calories\", \"carbohydrate\", \"sugar\", \"protein\", \"servings\"]\n",
    "imputer = SimpleImputer(strategy=\"median\")\n",
    "df[num_cols] = imputer.fit_transform(df[num_cols])\n",
    "\n",
    "df.head()\n"
   ]
  },
  {
   "cell_type": "code",
   "execution_count": null,
   "id": "797e71f1",
   "metadata": {},
   "outputs": [],
   "source": [
    "\n",
    "# Category distribution\n",
    "plt.figure(figsize=(10,5))\n",
    "sns.countplot(data=df, x=\"category\", order=df[\"category\"].value_counts().index)\n",
    "plt.xticks(rotation=45)\n",
    "plt.title(\"Recipe Category Distribution\")\n",
    "plt.show()\n"
   ]
  },
  {
   "cell_type": "code",
   "execution_count": null,
   "id": "da7aa25a",
   "metadata": {},
   "outputs": [],
   "source": [
    "\n",
    "# Calories distribution\n",
    "plt.figure(figsize=(8,5))\n",
    "sns.histplot(df[\"calories\"], bins=30, kde=True)\n",
    "plt.title(\"Calories Distribution\")\n",
    "plt.show()\n"
   ]
  },
  {
   "cell_type": "code",
   "execution_count": null,
   "id": "45c64f3f",
   "metadata": {},
   "outputs": [],
   "source": [
    "\n",
    "# Correlation heatmap\n",
    "plt.figure(figsize=(8,6))\n",
    "sns.heatmap(df[num_cols].corr(), annot=True, cmap=\"coolwarm\")\n",
    "plt.title(\"Correlation Heatmap (Nutritional Values)\")\n",
    "plt.show()\n"
   ]
  },
  {
   "cell_type": "code",
   "execution_count": null,
   "id": "0e65d148",
   "metadata": {},
   "outputs": [],
   "source": [
    "\n",
    "# Calories by category\n",
    "plt.figure(figsize=(10,6))\n",
    "sns.boxplot(data=df, x=\"category\", y=\"calories\")\n",
    "plt.xticks(rotation=45)\n",
    "plt.title(\"Calories by Category\")\n",
    "plt.show()\n"
   ]
  },
  {
   "cell_type": "code",
   "execution_count": null,
   "id": "3631daec",
   "metadata": {},
   "outputs": [],
   "source": [
    "\n",
    "# Save cleaned dataset\n",
    "df.to_csv(\"cleaned_recipe_data.csv\", index=False)\n",
    "print(\"Cleaned dataset saved as cleaned_recipe_data.csv\")\n"
   ]
  }
 ],
 "metadata": {},
 "nbformat": 4,
 "nbformat_minor": 5
}
